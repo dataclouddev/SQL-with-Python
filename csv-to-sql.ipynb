{
 "cells": [
  {
   "cell_type": "code",
   "execution_count": 2,
   "metadata": {},
   "outputs": [],
   "source": [
    "import sqlite3, os, pandas as pd\n",
    "\n",
    "### Modify the following: ###\n",
    "csvPath = os.path.join(os.getcwd(),'Resources','Census_Data.csv')\n",
    "dbName = 'censusData'\n",
    "dbFileName = 'censusData.db'\n",
    "dbPath = os.path.join(os.getcwd(),'Resources',dbFileName)"
   ]
  },
  {
   "cell_type": "code",
   "execution_count": 3,
   "metadata": {},
   "outputs": [
    {
     "name": "stdout",
     "output_type": "stream",
     "text": [
      "0\n"
     ]
    }
   ],
   "source": [
    "connection = sqlite3.connect(dbPath) # Can use \":memory:\" for a db that lives exclusively in ram to try out new things.\n",
    "print(connection.total_changes) # Total number of rows changed in DB, expected value is 0"
   ]
  },
  {
   "cell_type": "code",
   "execution_count": 4,
   "metadata": {},
   "outputs": [],
   "source": [
    "# Create a Pandas Dataframe from our csv census data.\n",
    "Dataframe = pd.read_csv(csvPath)\n",
    "\n",
    "# The execute function takes a tuple object type for column names. We are going to grab a tuple of column headers from our Pandas Dataframe.\n",
    "cols = tuple(Dataframe.columns) "
   ]
  },
  {
   "cell_type": "code",
   "execution_count": 5,
   "metadata": {},
   "outputs": [],
   "source": [
    "# Create cursur object.\n",
    "cur = connection.cursor()"
   ]
  },
  {
   "cell_type": "code",
   "execution_count": 6,
   "metadata": {},
   "outputs": [],
   "source": [
    "# Create a table, if it doesn't exist, with all columns in censusData.csv\n",
    "cur.execute(f\"CREATE TABLE IF NOT EXISTS {dbName} {cols};\") \n",
    "connection.commit()"
   ]
  },
  {
   "cell_type": "code",
   "execution_count": 7,
   "metadata": {},
   "outputs": [
    {
     "name": "stdout",
     "output_type": "stream",
     "text": [
      "999\n"
     ]
    }
   ],
   "source": [
    "# Pandas Dataframe to SQL Database\n",
    "Dataframe.to_sql(dbName, connection, if_exists='replace', index=False)\n",
    "# Total number of rows changed in DB, expected value is NOT 0\n",
    "print(connection.total_changes) "
   ]
  },
  {
   "cell_type": "code",
   "execution_count": 8,
   "metadata": {},
   "outputs": [],
   "source": [
    "connection.close()"
   ]
  }
 ],
 "metadata": {
  "interpreter": {
   "hash": "e63737369d30fe7344839465700afbbd76b50e1800b33f67f7bd93936153f6dd"
  },
  "kernelspec": {
   "display_name": "Python 3.10.5 64-bit",
   "language": "python",
   "name": "python3"
  },
  "language_info": {
   "codemirror_mode": {
    "name": "ipython",
    "version": 3
   },
   "file_extension": ".py",
   "mimetype": "text/x-python",
   "name": "python",
   "nbconvert_exporter": "python",
   "pygments_lexer": "ipython3",
   "version": "3.10.5"
  },
  "orig_nbformat": 4
 },
 "nbformat": 4,
 "nbformat_minor": 2
}
