{
 "cells": [
  {
   "cell_type": "code",
   "execution_count": 25,
   "metadata": {},
   "outputs": [],
   "source": [
    "import sqlite3, os, pandas as pd\n",
    "\n",
    "### Modify the following: ###\n",
    "csvPath = os.path.join(os.getcwd(),'Resources','Census_Data.csv')\n",
    "dbName = 'censusData'\n",
    "dbFileName = 'censusData.db'\n",
    "dbPath = os.path.join(os.getcwd(),'Resources',dbFileName)"
   ]
  },
  {
   "cell_type": "code",
   "execution_count": 26,
   "metadata": {},
   "outputs": [
    {
     "name": "stdout",
     "output_type": "stream",
     "text": [
      "0\n"
     ]
    }
   ],
   "source": [
    "connection = sqlite3.connect(dbPath) # Can use \":memory:\" for a db that lives exclusively in ram to try out new things.\n",
    "print(connection.total_changes) # Total number of rows changed in DB, expected value is 0"
   ]
  },
  {
   "cell_type": "code",
   "execution_count": 27,
   "metadata": {},
   "outputs": [],
   "source": [
    "# Create a Pandas Dataframe from our csv census data.\n",
    "Dataframe = pd.read_csv(csvPath)\n",
    "\n",
    "# The execute function takes a tuple object type for column names. We are going to grab a tuple of column headers from our Pandas Dataframe.\n",
    "cols = tuple(Dataframe.columns) "
   ]
  },
  {
   "cell_type": "code",
   "execution_count": 28,
   "metadata": {},
   "outputs": [],
   "source": [
    "# Create cursur object.\n",
    "cur = connection.cursor()"
   ]
  },
  {
   "cell_type": "code",
   "execution_count": 29,
   "metadata": {},
   "outputs": [],
   "source": [
    "# Create a table, if it doesn't exist, with all columns in censusData.csv\n",
    "cur.execute(f\"CREATE TABLE IF NOT EXISTS {dbName} {cols};\") \n",
    "connection.commit()"
   ]
  },
  {
   "cell_type": "code",
   "execution_count": 30,
   "metadata": {},
   "outputs": [
    {
     "ename": "DatabaseError",
     "evalue": "Execution failed on sql 'DROP TABLE \"censusData\"': database is locked",
     "output_type": "error",
     "traceback": [
      "\u001b[1;31m---------------------------------------------------------------------------\u001b[0m",
      "\u001b[1;31mOperationalError\u001b[0m                          Traceback (most recent call last)",
      "File \u001b[1;32mc:\\Users\\vsmit\\AppData\\Local\\Programs\\Python\\Python310\\lib\\site-packages\\pandas\\io\\sql.py:2020\u001b[0m, in \u001b[0;36mSQLiteDatabase.execute\u001b[1;34m(self, *args, **kwargs)\u001b[0m\n\u001b[0;32m   <a href='file:///c%3A/Users/vsmit/AppData/Local/Programs/Python/Python310/lib/site-packages/pandas/io/sql.py?line=2018'>2019</a>\u001b[0m \u001b[39mtry\u001b[39;00m:\n\u001b[1;32m-> <a href='file:///c%3A/Users/vsmit/AppData/Local/Programs/Python/Python310/lib/site-packages/pandas/io/sql.py?line=2019'>2020</a>\u001b[0m     cur\u001b[39m.\u001b[39mexecute(\u001b[39m*\u001b[39margs, \u001b[39m*\u001b[39m\u001b[39m*\u001b[39mkwargs)\n\u001b[0;32m   <a href='file:///c%3A/Users/vsmit/AppData/Local/Programs/Python/Python310/lib/site-packages/pandas/io/sql.py?line=2020'>2021</a>\u001b[0m     \u001b[39mreturn\u001b[39;00m cur\n",
      "\u001b[1;31mOperationalError\u001b[0m: database is locked",
      "\nThe above exception was the direct cause of the following exception:\n",
      "\u001b[1;31mDatabaseError\u001b[0m                             Traceback (most recent call last)",
      "\u001b[1;32mc:\\Users\\vsmit\\Desktop\\Portfolio\\SQL-with-Python\\csv-to-sql.ipynb Cell 6'\u001b[0m in \u001b[0;36m<cell line: 2>\u001b[1;34m()\u001b[0m\n\u001b[0;32m      <a href='vscode-notebook-cell:/c%3A/Users/vsmit/Desktop/Portfolio/SQL-with-Python/csv-to-sql.ipynb#ch0000006?line=0'>1</a>\u001b[0m \u001b[39m# Pandas Dataframe to SQL Database\u001b[39;00m\n\u001b[1;32m----> <a href='vscode-notebook-cell:/c%3A/Users/vsmit/Desktop/Portfolio/SQL-with-Python/csv-to-sql.ipynb#ch0000006?line=1'>2</a>\u001b[0m Dataframe\u001b[39m.\u001b[39;49mto_sql(dbName, connection, if_exists\u001b[39m=\u001b[39;49m\u001b[39m'\u001b[39;49m\u001b[39mreplace\u001b[39;49m\u001b[39m'\u001b[39;49m, index\u001b[39m=\u001b[39;49m\u001b[39mFalse\u001b[39;49;00m)\n\u001b[0;32m      <a href='vscode-notebook-cell:/c%3A/Users/vsmit/Desktop/Portfolio/SQL-with-Python/csv-to-sql.ipynb#ch0000006?line=2'>3</a>\u001b[0m \u001b[39m# Total number of rows changed in DB, expected value is NOT 0\u001b[39;00m\n\u001b[0;32m      <a href='vscode-notebook-cell:/c%3A/Users/vsmit/Desktop/Portfolio/SQL-with-Python/csv-to-sql.ipynb#ch0000006?line=3'>4</a>\u001b[0m \u001b[39mprint\u001b[39m(connection\u001b[39m.\u001b[39mtotal_changes)\n",
      "File \u001b[1;32mc:\\Users\\vsmit\\AppData\\Local\\Programs\\Python\\Python310\\lib\\site-packages\\pandas\\core\\generic.py:2951\u001b[0m, in \u001b[0;36mNDFrame.to_sql\u001b[1;34m(self, name, con, schema, if_exists, index, index_label, chunksize, dtype, method)\u001b[0m\n\u001b[0;32m   <a href='file:///c%3A/Users/vsmit/AppData/Local/Programs/Python/Python310/lib/site-packages/pandas/core/generic.py?line=2793'>2794</a>\u001b[0m \u001b[39m\"\"\"\u001b[39;00m\n\u001b[0;32m   <a href='file:///c%3A/Users/vsmit/AppData/Local/Programs/Python/Python310/lib/site-packages/pandas/core/generic.py?line=2794'>2795</a>\u001b[0m \u001b[39mWrite records stored in a DataFrame to a SQL database.\u001b[39;00m\n\u001b[0;32m   <a href='file:///c%3A/Users/vsmit/AppData/Local/Programs/Python/Python310/lib/site-packages/pandas/core/generic.py?line=2795'>2796</a>\u001b[0m \n\u001b[1;32m   (...)\u001b[0m\n\u001b[0;32m   <a href='file:///c%3A/Users/vsmit/AppData/Local/Programs/Python/Python310/lib/site-packages/pandas/core/generic.py?line=2946'>2947</a>\u001b[0m \u001b[39m[(1,), (None,), (2,)]\u001b[39;00m\n\u001b[0;32m   <a href='file:///c%3A/Users/vsmit/AppData/Local/Programs/Python/Python310/lib/site-packages/pandas/core/generic.py?line=2947'>2948</a>\u001b[0m \u001b[39m\"\"\"\u001b[39;00m  \u001b[39m# noqa:E501\u001b[39;00m\n\u001b[0;32m   <a href='file:///c%3A/Users/vsmit/AppData/Local/Programs/Python/Python310/lib/site-packages/pandas/core/generic.py?line=2948'>2949</a>\u001b[0m \u001b[39mfrom\u001b[39;00m \u001b[39mpandas\u001b[39;00m\u001b[39m.\u001b[39;00m\u001b[39mio\u001b[39;00m \u001b[39mimport\u001b[39;00m sql\n\u001b[1;32m-> <a href='file:///c%3A/Users/vsmit/AppData/Local/Programs/Python/Python310/lib/site-packages/pandas/core/generic.py?line=2950'>2951</a>\u001b[0m \u001b[39mreturn\u001b[39;00m sql\u001b[39m.\u001b[39;49mto_sql(\n\u001b[0;32m   <a href='file:///c%3A/Users/vsmit/AppData/Local/Programs/Python/Python310/lib/site-packages/pandas/core/generic.py?line=2951'>2952</a>\u001b[0m     \u001b[39mself\u001b[39;49m,\n\u001b[0;32m   <a href='file:///c%3A/Users/vsmit/AppData/Local/Programs/Python/Python310/lib/site-packages/pandas/core/generic.py?line=2952'>2953</a>\u001b[0m     name,\n\u001b[0;32m   <a href='file:///c%3A/Users/vsmit/AppData/Local/Programs/Python/Python310/lib/site-packages/pandas/core/generic.py?line=2953'>2954</a>\u001b[0m     con,\n\u001b[0;32m   <a href='file:///c%3A/Users/vsmit/AppData/Local/Programs/Python/Python310/lib/site-packages/pandas/core/generic.py?line=2954'>2955</a>\u001b[0m     schema\u001b[39m=\u001b[39;49mschema,\n\u001b[0;32m   <a href='file:///c%3A/Users/vsmit/AppData/Local/Programs/Python/Python310/lib/site-packages/pandas/core/generic.py?line=2955'>2956</a>\u001b[0m     if_exists\u001b[39m=\u001b[39;49mif_exists,\n\u001b[0;32m   <a href='file:///c%3A/Users/vsmit/AppData/Local/Programs/Python/Python310/lib/site-packages/pandas/core/generic.py?line=2956'>2957</a>\u001b[0m     index\u001b[39m=\u001b[39;49mindex,\n\u001b[0;32m   <a href='file:///c%3A/Users/vsmit/AppData/Local/Programs/Python/Python310/lib/site-packages/pandas/core/generic.py?line=2957'>2958</a>\u001b[0m     index_label\u001b[39m=\u001b[39;49mindex_label,\n\u001b[0;32m   <a href='file:///c%3A/Users/vsmit/AppData/Local/Programs/Python/Python310/lib/site-packages/pandas/core/generic.py?line=2958'>2959</a>\u001b[0m     chunksize\u001b[39m=\u001b[39;49mchunksize,\n\u001b[0;32m   <a href='file:///c%3A/Users/vsmit/AppData/Local/Programs/Python/Python310/lib/site-packages/pandas/core/generic.py?line=2959'>2960</a>\u001b[0m     dtype\u001b[39m=\u001b[39;49mdtype,\n\u001b[0;32m   <a href='file:///c%3A/Users/vsmit/AppData/Local/Programs/Python/Python310/lib/site-packages/pandas/core/generic.py?line=2960'>2961</a>\u001b[0m     method\u001b[39m=\u001b[39;49mmethod,\n\u001b[0;32m   <a href='file:///c%3A/Users/vsmit/AppData/Local/Programs/Python/Python310/lib/site-packages/pandas/core/generic.py?line=2961'>2962</a>\u001b[0m )\n",
      "File \u001b[1;32mc:\\Users\\vsmit\\AppData\\Local\\Programs\\Python\\Python310\\lib\\site-packages\\pandas\\io\\sql.py:697\u001b[0m, in \u001b[0;36mto_sql\u001b[1;34m(frame, name, con, schema, if_exists, index, index_label, chunksize, dtype, method, engine, **engine_kwargs)\u001b[0m\n\u001b[0;32m    <a href='file:///c%3A/Users/vsmit/AppData/Local/Programs/Python/Python310/lib/site-packages/pandas/io/sql.py?line=691'>692</a>\u001b[0m \u001b[39melif\u001b[39;00m \u001b[39mnot\u001b[39;00m \u001b[39misinstance\u001b[39m(frame, DataFrame):\n\u001b[0;32m    <a href='file:///c%3A/Users/vsmit/AppData/Local/Programs/Python/Python310/lib/site-packages/pandas/io/sql.py?line=692'>693</a>\u001b[0m     \u001b[39mraise\u001b[39;00m \u001b[39mNotImplementedError\u001b[39;00m(\n\u001b[0;32m    <a href='file:///c%3A/Users/vsmit/AppData/Local/Programs/Python/Python310/lib/site-packages/pandas/io/sql.py?line=693'>694</a>\u001b[0m         \u001b[39m\"\u001b[39m\u001b[39m'\u001b[39m\u001b[39mframe\u001b[39m\u001b[39m'\u001b[39m\u001b[39m argument should be either a Series or a DataFrame\u001b[39m\u001b[39m\"\u001b[39m\n\u001b[0;32m    <a href='file:///c%3A/Users/vsmit/AppData/Local/Programs/Python/Python310/lib/site-packages/pandas/io/sql.py?line=694'>695</a>\u001b[0m     )\n\u001b[1;32m--> <a href='file:///c%3A/Users/vsmit/AppData/Local/Programs/Python/Python310/lib/site-packages/pandas/io/sql.py?line=696'>697</a>\u001b[0m \u001b[39mreturn\u001b[39;00m pandas_sql\u001b[39m.\u001b[39mto_sql(\n\u001b[0;32m    <a href='file:///c%3A/Users/vsmit/AppData/Local/Programs/Python/Python310/lib/site-packages/pandas/io/sql.py?line=697'>698</a>\u001b[0m     frame,\n\u001b[0;32m    <a href='file:///c%3A/Users/vsmit/AppData/Local/Programs/Python/Python310/lib/site-packages/pandas/io/sql.py?line=698'>699</a>\u001b[0m     name,\n\u001b[0;32m    <a href='file:///c%3A/Users/vsmit/AppData/Local/Programs/Python/Python310/lib/site-packages/pandas/io/sql.py?line=699'>700</a>\u001b[0m     if_exists\u001b[39m=\u001b[39mif_exists,\n\u001b[0;32m    <a href='file:///c%3A/Users/vsmit/AppData/Local/Programs/Python/Python310/lib/site-packages/pandas/io/sql.py?line=700'>701</a>\u001b[0m     index\u001b[39m=\u001b[39mindex,\n\u001b[0;32m    <a href='file:///c%3A/Users/vsmit/AppData/Local/Programs/Python/Python310/lib/site-packages/pandas/io/sql.py?line=701'>702</a>\u001b[0m     index_label\u001b[39m=\u001b[39mindex_label,\n\u001b[0;32m    <a href='file:///c%3A/Users/vsmit/AppData/Local/Programs/Python/Python310/lib/site-packages/pandas/io/sql.py?line=702'>703</a>\u001b[0m     schema\u001b[39m=\u001b[39mschema,\n\u001b[0;32m    <a href='file:///c%3A/Users/vsmit/AppData/Local/Programs/Python/Python310/lib/site-packages/pandas/io/sql.py?line=703'>704</a>\u001b[0m     chunksize\u001b[39m=\u001b[39mchunksize,\n\u001b[0;32m    <a href='file:///c%3A/Users/vsmit/AppData/Local/Programs/Python/Python310/lib/site-packages/pandas/io/sql.py?line=704'>705</a>\u001b[0m     dtype\u001b[39m=\u001b[39mdtype,\n\u001b[0;32m    <a href='file:///c%3A/Users/vsmit/AppData/Local/Programs/Python/Python310/lib/site-packages/pandas/io/sql.py?line=705'>706</a>\u001b[0m     method\u001b[39m=\u001b[39mmethod,\n\u001b[0;32m    <a href='file:///c%3A/Users/vsmit/AppData/Local/Programs/Python/Python310/lib/site-packages/pandas/io/sql.py?line=706'>707</a>\u001b[0m     engine\u001b[39m=\u001b[39mengine,\n\u001b[0;32m    <a href='file:///c%3A/Users/vsmit/AppData/Local/Programs/Python/Python310/lib/site-packages/pandas/io/sql.py?line=707'>708</a>\u001b[0m     \u001b[39m*\u001b[39m\u001b[39m*\u001b[39mengine_kwargs,\n\u001b[0;32m    <a href='file:///c%3A/Users/vsmit/AppData/Local/Programs/Python/Python310/lib/site-packages/pandas/io/sql.py?line=708'>709</a>\u001b[0m )\n",
      "File \u001b[1;32mc:\\Users\\vsmit\\AppData\\Local\\Programs\\Python\\Python310\\lib\\site-packages\\pandas\\io\\sql.py:2189\u001b[0m, in \u001b[0;36mSQLiteDatabase.to_sql\u001b[1;34m(self, frame, name, if_exists, index, index_label, schema, chunksize, dtype, method, **kwargs)\u001b[0m\n\u001b[0;32m   <a href='file:///c%3A/Users/vsmit/AppData/Local/Programs/Python/Python310/lib/site-packages/pandas/io/sql.py?line=2177'>2178</a>\u001b[0m             \u001b[39mraise\u001b[39;00m \u001b[39mValueError\u001b[39;00m(\u001b[39mf\u001b[39m\u001b[39m\"\u001b[39m\u001b[39m{\u001b[39;00mcol\u001b[39m}\u001b[39;00m\u001b[39m (\u001b[39m\u001b[39m{\u001b[39;00mmy_type\u001b[39m}\u001b[39;00m\u001b[39m) not a string\u001b[39m\u001b[39m\"\u001b[39m)\n\u001b[0;32m   <a href='file:///c%3A/Users/vsmit/AppData/Local/Programs/Python/Python310/lib/site-packages/pandas/io/sql.py?line=2179'>2180</a>\u001b[0m table \u001b[39m=\u001b[39m SQLiteTable(\n\u001b[0;32m   <a href='file:///c%3A/Users/vsmit/AppData/Local/Programs/Python/Python310/lib/site-packages/pandas/io/sql.py?line=2180'>2181</a>\u001b[0m     name,\n\u001b[0;32m   <a href='file:///c%3A/Users/vsmit/AppData/Local/Programs/Python/Python310/lib/site-packages/pandas/io/sql.py?line=2181'>2182</a>\u001b[0m     \u001b[39mself\u001b[39m,\n\u001b[1;32m   (...)\u001b[0m\n\u001b[0;32m   <a href='file:///c%3A/Users/vsmit/AppData/Local/Programs/Python/Python310/lib/site-packages/pandas/io/sql.py?line=2186'>2187</a>\u001b[0m     dtype\u001b[39m=\u001b[39mdtype,\n\u001b[0;32m   <a href='file:///c%3A/Users/vsmit/AppData/Local/Programs/Python/Python310/lib/site-packages/pandas/io/sql.py?line=2187'>2188</a>\u001b[0m )\n\u001b[1;32m-> <a href='file:///c%3A/Users/vsmit/AppData/Local/Programs/Python/Python310/lib/site-packages/pandas/io/sql.py?line=2188'>2189</a>\u001b[0m table\u001b[39m.\u001b[39;49mcreate()\n\u001b[0;32m   <a href='file:///c%3A/Users/vsmit/AppData/Local/Programs/Python/Python310/lib/site-packages/pandas/io/sql.py?line=2189'>2190</a>\u001b[0m \u001b[39mreturn\u001b[39;00m table\u001b[39m.\u001b[39minsert(chunksize, method)\n",
      "File \u001b[1;32mc:\\Users\\vsmit\\AppData\\Local\\Programs\\Python\\Python310\\lib\\site-packages\\pandas\\io\\sql.py:835\u001b[0m, in \u001b[0;36mSQLTable.create\u001b[1;34m(self)\u001b[0m\n\u001b[0;32m    <a href='file:///c%3A/Users/vsmit/AppData/Local/Programs/Python/Python310/lib/site-packages/pandas/io/sql.py?line=832'>833</a>\u001b[0m     \u001b[39mraise\u001b[39;00m \u001b[39mValueError\u001b[39;00m(\u001b[39mf\u001b[39m\u001b[39m\"\u001b[39m\u001b[39mTable \u001b[39m\u001b[39m'\u001b[39m\u001b[39m{\u001b[39;00m\u001b[39mself\u001b[39m\u001b[39m.\u001b[39mname\u001b[39m}\u001b[39;00m\u001b[39m'\u001b[39m\u001b[39m already exists.\u001b[39m\u001b[39m\"\u001b[39m)\n\u001b[0;32m    <a href='file:///c%3A/Users/vsmit/AppData/Local/Programs/Python/Python310/lib/site-packages/pandas/io/sql.py?line=833'>834</a>\u001b[0m \u001b[39melif\u001b[39;00m \u001b[39mself\u001b[39m\u001b[39m.\u001b[39mif_exists \u001b[39m==\u001b[39m \u001b[39m\"\u001b[39m\u001b[39mreplace\u001b[39m\u001b[39m\"\u001b[39m:\n\u001b[1;32m--> <a href='file:///c%3A/Users/vsmit/AppData/Local/Programs/Python/Python310/lib/site-packages/pandas/io/sql.py?line=834'>835</a>\u001b[0m     \u001b[39mself\u001b[39;49m\u001b[39m.\u001b[39;49mpd_sql\u001b[39m.\u001b[39;49mdrop_table(\u001b[39mself\u001b[39;49m\u001b[39m.\u001b[39;49mname, \u001b[39mself\u001b[39;49m\u001b[39m.\u001b[39;49mschema)\n\u001b[0;32m    <a href='file:///c%3A/Users/vsmit/AppData/Local/Programs/Python/Python310/lib/site-packages/pandas/io/sql.py?line=835'>836</a>\u001b[0m     \u001b[39mself\u001b[39m\u001b[39m.\u001b[39m_execute_create()\n\u001b[0;32m    <a href='file:///c%3A/Users/vsmit/AppData/Local/Programs/Python/Python310/lib/site-packages/pandas/io/sql.py?line=836'>837</a>\u001b[0m \u001b[39melif\u001b[39;00m \u001b[39mself\u001b[39m\u001b[39m.\u001b[39mif_exists \u001b[39m==\u001b[39m \u001b[39m\"\u001b[39m\u001b[39mappend\u001b[39m\u001b[39m\"\u001b[39m:\n",
      "File \u001b[1;32mc:\\Users\\vsmit\\AppData\\Local\\Programs\\Python\\Python310\\lib\\site-packages\\pandas\\io\\sql.py:2204\u001b[0m, in \u001b[0;36mSQLiteDatabase.drop_table\u001b[1;34m(self, name, schema)\u001b[0m\n\u001b[0;32m   <a href='file:///c%3A/Users/vsmit/AppData/Local/Programs/Python/Python310/lib/site-packages/pandas/io/sql.py?line=2201'>2202</a>\u001b[0m \u001b[39mdef\u001b[39;00m \u001b[39mdrop_table\u001b[39m(\u001b[39mself\u001b[39m, name: \u001b[39mstr\u001b[39m, schema: \u001b[39mstr\u001b[39m \u001b[39m|\u001b[39m \u001b[39mNone\u001b[39;00m \u001b[39m=\u001b[39m \u001b[39mNone\u001b[39;00m):\n\u001b[0;32m   <a href='file:///c%3A/Users/vsmit/AppData/Local/Programs/Python/Python310/lib/site-packages/pandas/io/sql.py?line=2202'>2203</a>\u001b[0m     drop_sql \u001b[39m=\u001b[39m \u001b[39mf\u001b[39m\u001b[39m\"\u001b[39m\u001b[39mDROP TABLE \u001b[39m\u001b[39m{\u001b[39;00m_get_valid_sqlite_name(name)\u001b[39m}\u001b[39;00m\u001b[39m\"\u001b[39m\n\u001b[1;32m-> <a href='file:///c%3A/Users/vsmit/AppData/Local/Programs/Python/Python310/lib/site-packages/pandas/io/sql.py?line=2203'>2204</a>\u001b[0m     \u001b[39mself\u001b[39;49m\u001b[39m.\u001b[39;49mexecute(drop_sql)\n",
      "File \u001b[1;32mc:\\Users\\vsmit\\AppData\\Local\\Programs\\Python\\Python310\\lib\\site-packages\\pandas\\io\\sql.py:2032\u001b[0m, in \u001b[0;36mSQLiteDatabase.execute\u001b[1;34m(self, *args, **kwargs)\u001b[0m\n\u001b[0;32m   <a href='file:///c%3A/Users/vsmit/AppData/Local/Programs/Python/Python310/lib/site-packages/pandas/io/sql.py?line=2028'>2029</a>\u001b[0m     \u001b[39mraise\u001b[39;00m ex \u001b[39mfrom\u001b[39;00m \u001b[39minner_exc\u001b[39;00m\n\u001b[0;32m   <a href='file:///c%3A/Users/vsmit/AppData/Local/Programs/Python/Python310/lib/site-packages/pandas/io/sql.py?line=2030'>2031</a>\u001b[0m ex \u001b[39m=\u001b[39m DatabaseError(\u001b[39mf\u001b[39m\u001b[39m\"\u001b[39m\u001b[39mExecution failed on sql \u001b[39m\u001b[39m'\u001b[39m\u001b[39m{\u001b[39;00margs[\u001b[39m0\u001b[39m]\u001b[39m}\u001b[39;00m\u001b[39m'\u001b[39m\u001b[39m: \u001b[39m\u001b[39m{\u001b[39;00mexc\u001b[39m}\u001b[39;00m\u001b[39m\"\u001b[39m)\n\u001b[1;32m-> <a href='file:///c%3A/Users/vsmit/AppData/Local/Programs/Python/Python310/lib/site-packages/pandas/io/sql.py?line=2031'>2032</a>\u001b[0m \u001b[39mraise\u001b[39;00m ex \u001b[39mfrom\u001b[39;00m \u001b[39mexc\u001b[39;00m\n",
      "\u001b[1;31mDatabaseError\u001b[0m: Execution failed on sql 'DROP TABLE \"censusData\"': database is locked"
     ]
    }
   ],
   "source": [
    "# Pandas Dataframe to SQL Database\n",
    "Dataframe.to_sql(dbName, connection, if_exists='replace', index=False)\n",
    "# Total number of rows changed in DB, expected value is NOT 0\n",
    "print(connection.total_changes) "
   ]
  },
  {
   "cell_type": "code",
   "execution_count": null,
   "metadata": {},
   "outputs": [],
   "source": [
    "connection.close()"
   ]
  }
 ],
 "metadata": {
  "language_info": {
   "name": "python"
  },
  "orig_nbformat": 4
 },
 "nbformat": 4,
 "nbformat_minor": 2
}
